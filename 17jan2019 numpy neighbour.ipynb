{
 "cells": [
  {
   "cell_type": "code",
   "execution_count": null,
   "metadata": {},
   "outputs": [],
   "source": []
  },
  {
   "cell_type": "code",
   "execution_count": 1,
   "metadata": {},
   "outputs": [],
   "source": [
    "\n",
    "import numpy as np\n"
   ]
  },
  {
   "cell_type": "code",
   "execution_count": 11,
   "metadata": {},
   "outputs": [
    {
     "data": {
      "text/plain": [
       "array([[ 4,  8, 16,  4],\n",
       "       [14, 10,  9,  4],\n",
       "       [15, 11,  4, 11],\n",
       "       [ 8,  8,  2, 19]])"
      ]
     },
     "execution_count": 11,
     "metadata": {},
     "output_type": "execute_result"
    }
   ],
   "source": [
    "m1=np.random.randint(1,20,16).reshape(4,4)\n",
    "m1"
   ]
  },
  {
   "cell_type": "code",
   "execution_count": 30,
   "metadata": {},
   "outputs": [
    {
     "data": {
      "text/plain": [
       "array([[14, 16],\n",
       "       [15, 19]])"
      ]
     },
     "execution_count": 30,
     "metadata": {},
     "output_type": "execute_result"
    }
   ],
   "source": [
    "m2=np.array([np.max(m1[0:2,0:2]),np.max(m1[0:2,2:4]),np.max(m1[2:4,0:2]),np.max(m1[2:4,2:4])]).reshape(2,2)\n",
    "m2"
   ]
  },
  {
   "cell_type": "code",
   "execution_count": 19,
   "metadata": {},
   "outputs": [
    {
     "data": {
      "text/plain": [
       "16"
      ]
     },
     "execution_count": 19,
     "metadata": {},
     "output_type": "execute_result"
    }
   ],
   "source": []
  },
  {
   "cell_type": "code",
   "execution_count": 20,
   "metadata": {},
   "outputs": [
    {
     "data": {
      "text/plain": [
       "15"
      ]
     },
     "execution_count": 20,
     "metadata": {},
     "output_type": "execute_result"
    }
   ],
   "source": []
  },
  {
   "cell_type": "code",
   "execution_count": 21,
   "metadata": {},
   "outputs": [
    {
     "data": {
      "text/plain": [
       "19"
      ]
     },
     "execution_count": 21,
     "metadata": {},
     "output_type": "execute_result"
    }
   ],
   "source": []
  },
  {
   "cell_type": "code",
   "execution_count": 23,
   "metadata": {},
   "outputs": [
    {
     "data": {
      "text/plain": [
       "array([[14, 16],\n",
       "       [15, 19]])"
      ]
     },
     "execution_count": 23,
     "metadata": {},
     "output_type": "execute_result"
    }
   ],
   "source": []
  },
  {
   "cell_type": "code",
   "execution_count": 38,
   "metadata": {},
   "outputs": [
    {
     "data": {
      "text/plain": [
       "2"
      ]
     },
     "execution_count": 38,
     "metadata": {},
     "output_type": "execute_result"
    }
   ],
   "source": [
    "a=np.random.randint(6)\n",
    "a"
   ]
  },
  {
   "cell_type": "code",
   "execution_count": 74,
   "metadata": {},
   "outputs": [],
   "source": [
    "import numpy as np\n",
    "import matplotlib.pyplot as plt\n",
    " \n",
    "\n",
    "slist=[]\n",
    "n=1000\n",
    "m=1000\n",
    "list1=[1,1,1,2,2,2,3,3,3,4,5,6]\n",
    "\n",
    "for i in range(0,m):\n",
    "    step=0\n",
    "    \n",
    "    for i in range(n):\n",
    "        index=np.random.randint(0,12)\n",
    "        d=list1[index]\n",
    "        \n",
    "        \n",
    "        \n",
    "        if  d in [1,2,3] :\n",
    "            step=step-1\n",
    "            \n",
    "                \n",
    "        elif d==4 or d==5:\n",
    "            step=step+1\n",
    "        else:\n",
    "            index=np.random.randint(0,12)\n",
    "            c=list1[index]\n",
    "           \n",
    "            step=step+c\n",
    "            \n",
    "    slist.append(step)\n",
    "            \n",
    "    \n",
    "              \n",
    "            "
   ]
  },
  {
   "cell_type": "code",
   "execution_count": 75,
   "metadata": {},
   "outputs": [
    {
     "data": {
      "text/plain": [
       "(array([ 1.,  1.,  0.,  0.,  0.,  0.,  1.,  2.,  1.,  2.,  1.,  3.,  7.,\n",
       "         2.,  1.,  7.,  3.,  4.,  3.,  6.,  6.,  4., 10., 11., 15.,  8.,\n",
       "        11.,  9., 14.,  9., 18., 21., 16., 13., 15., 17., 26., 23., 27.,\n",
       "        19., 26., 29., 36., 22., 35., 21., 19., 25., 16., 33., 21., 20.,\n",
       "        42., 25., 20., 28., 17., 22., 19., 12., 22., 11.,  5., 21.,  9.,\n",
       "        14., 14.,  7., 10.,  6.,  5.,  6.,  7.,  7.,  4.,  2.,  3.,  3.,\n",
       "         0.,  3.,  2.,  2.,  2.,  1.,  2.,  0.,  0.,  3.,  0.,  0.,  0.,\n",
       "         0.,  1.,  0.,  1.,  1.,  0.,  0.,  0.,  1.]),\n",
       " array([-475.  , -472.37, -469.74, -467.11, -464.48, -461.85, -459.22,\n",
       "        -456.59, -453.96, -451.33, -448.7 , -446.07, -443.44, -440.81,\n",
       "        -438.18, -435.55, -432.92, -430.29, -427.66, -425.03, -422.4 ,\n",
       "        -419.77, -417.14, -414.51, -411.88, -409.25, -406.62, -403.99,\n",
       "        -401.36, -398.73, -396.1 , -393.47, -390.84, -388.21, -385.58,\n",
       "        -382.95, -380.32, -377.69, -375.06, -372.43, -369.8 , -367.17,\n",
       "        -364.54, -361.91, -359.28, -356.65, -354.02, -351.39, -348.76,\n",
       "        -346.13, -343.5 , -340.87, -338.24, -335.61, -332.98, -330.35,\n",
       "        -327.72, -325.09, -322.46, -319.83, -317.2 , -314.57, -311.94,\n",
       "        -309.31, -306.68, -304.05, -301.42, -298.79, -296.16, -293.53,\n",
       "        -290.9 , -288.27, -285.64, -283.01, -280.38, -277.75, -275.12,\n",
       "        -272.49, -269.86, -267.23, -264.6 , -261.97, -259.34, -256.71,\n",
       "        -254.08, -251.45, -248.82, -246.19, -243.56, -240.93, -238.3 ,\n",
       "        -235.67, -233.04, -230.41, -227.78, -225.15, -222.52, -219.89,\n",
       "        -217.26, -214.63, -212.  ]),\n",
       " <a list of 100 Patch objects>)"
      ]
     },
     "execution_count": 75,
     "metadata": {},
     "output_type": "execute_result"
    },
    {
     "data": {
      "image/png": "[encoded data removed]",
      "text/plain": [
       "<Figure size 432x288 with 1 Axes>"
      ]
     },
     "metadata": {},
     "output_type": "display_data"
    }
   ],
   "source": [
    "plt.hist(slist,bins=100)"
   ]
  },
  {
   "cell_type": "code",
   "execution_count": 62,
   "metadata": {},
   "outputs": [],
   "source": [
    "import numpy as np\n",
    "import matplotlib.pyplot as plt\n",
    " \n",
    "\n",
    "slist=[]\n",
    "n=1000\n",
    "m=1000\n",
    "\n",
    "for i in range(0,m):\n",
    "    step=0\n",
    "    \n",
    "    for i in range(n):\n",
    "        \n",
    "        d=np.random.randint(1,7)\n",
    "        if  d==1 or d==2 or d==3 :\n",
    "            if step>0:\n",
    "                step=step-1\n",
    "                \n",
    "            \n",
    "            \n",
    "            \n",
    "                \n",
    "        elif d==4 or d==5:\n",
    "            step=step+1\n",
    "        else:\n",
    "            c=np.random.randint(1,7)\n",
    "            step=step+c\n",
    "            \n",
    "    slist.append(step)\n",
    "            "
   ]
  },
  {
   "cell_type": "code",
   "execution_count": 63,
   "metadata": {},
   "outputs": [
    {
     "data": {
      "text/plain": [
       "(array([ 1.,  1.,  0.,  0.,  0.,  0.,  1.,  0.,  0.,  2.,  2.,  0.,  1.,\n",
       "         0.,  4.,  2.,  1.,  1.,  1.,  2.,  2.,  2.,  2.,  1.,  4.,  2.,\n",
       "         4.,  8.,  6.,  9.,  9., 14., 11.,  6.,  7., 13., 11., 16., 19.,\n",
       "        20., 16., 20., 23., 19., 26., 26., 27., 24., 28., 24., 26., 25.,\n",
       "        34., 21., 32., 18., 24., 19., 28., 19., 23., 18., 18., 22., 17.,\n",
       "        21., 10., 15., 17., 22., 17., 15., 10., 10.,  8., 15., 12.,  8.,\n",
       "         5.,  8.,  2., 10.,  7.,  4.,  3.,  4.,  3.,  4.,  1.,  1.,  1.,\n",
       "         1.,  1.,  1.,  1.,  0.,  0.,  0.,  0.,  1.]),\n",
       " array([-360.56944444, -359.67701389, -358.78458333, -357.89215278,\n",
       "        -356.99972222, -356.10729167, -355.21486111, -354.32243056,\n",
       "        -353.43      , -352.53756944, -351.64513889, -350.75270833,\n",
       "        -349.86027778, -348.96784722, -348.07541667, -347.18298611,\n",
       "        -346.29055556, -345.398125  , -344.50569444, -343.61326389,\n",
       "        -342.72083333, -341.82840278, -340.93597222, -340.04354167,\n",
       "        -339.15111111, -338.25868056, -337.36625   , -336.47381944,\n",
       "        -335.58138889, -334.68895833, -333.79652778, -332.90409722,\n",
       "        -332.01166667, -331.11923611, -330.22680556, -329.334375  ,\n",
       "        -328.44194444, -327.54951389, -326.65708333, -325.76465278,\n",
       "        -324.87222222, -323.97979167, -323.08736111, -322.19493056,\n",
       "        -321.3025    , -320.41006944, -319.51763889, -318.62520833,\n",
       "        -317.73277778, -316.84034722, -315.94791667, -315.05548611,\n",
       "        -314.16305556, -313.270625  , -312.37819444, -311.48576389,\n",
       "        -310.59333333, -309.70090278, -308.80847222, -307.91604167,\n",
       "        -307.02361111, -306.13118056, -305.23875   , -304.34631944,\n",
       "        -303.45388889, -302.56145833, -301.66902778, -300.77659722,\n",
       "        -299.88416667, -298.99173611, -298.09930556, -297.206875  ,\n",
       "        -296.31444444, -295.42201389, -294.52958333, -293.63715278,\n",
       "        -292.74472222, -291.85229167, -290.95986111, -290.06743056,\n",
       "        -289.175     , -288.28256944, -287.39013889, -286.49770833,\n",
       "        -285.60527778, -284.71284722, -283.82041667, -282.92798611,\n",
       "        -282.03555556, -281.143125  , -280.25069444, -279.35826389,\n",
       "        -278.46583333, -277.57340278, -276.68097222, -275.78854167,\n",
       "        -274.89611111, -274.00368056, -273.11125   , -272.21881944,\n",
       "        -271.32638889]),\n",
       " <a list of 100 Patch objects>)"
      ]
     },
     "execution_count": 63,
     "metadata": {},
     "output_type": "execute_result"
    },
    {
     "data": {
      "image/png": "[encoded data removed]",
      "text/plain": [
       "<Figure size 432x288 with 1 Axes>"
      ]
     },
     "metadata": {},
     "output_type": "display_data"
    }
   ],
   "source": [
    "plt.hist(slist,bins=100)"
   ]
  },
  {
   "cell_type": "code",
   "execution_count": 87,
   "metadata": {},
   "outputs": [
    {
     "data": {
      "text/plain": [
       "array([[0., 0., 0., 0., 0., 0., 0., 0., 0., 0., 0., 0., 0., 0., 0., 0.,\n",
       "        0., 0., 0., 0., 0., 0., 0., 0., 0., 0., 0., 0., 0., 0., 0., 0.,\n",
       "        0., 0., 0., 0., 0., 0., 0., 0., 0., 0., 0., 0., 0., 0., 0., 0.,\n",
       "        0., 0., 0., 0., 0., 0., 0., 0., 0., 0., 0., 0., 0., 0., 0., 0.,\n",
       "        0., 0., 0., 0., 0., 0., 0., 0., 0., 0., 0., 0., 0., 0., 0., 0.,\n",
       "        0., 0., 0., 0., 0., 0., 0., 0., 0., 0., 0., 0., 0., 0., 0., 0.,\n",
       "        0., 0., 0., 0.]])"
      ]
     },
     "execution_count": 87,
     "metadata": {},
     "output_type": "execute_result"
    }
   ],
   "source": [
    "import numpy as np\n",
    "import matplotlib.pyplot as plt\n",
    "\n",
    "n=np.zeros([1,100])\n",
    "n\n",
    "    \n",
    "    \n",
    "        \n",
    "       \n",
    "            \n",
    "\n"
   ]
  },
  {
   "cell_type": "code",
   "execution_count": 77,
   "metadata": {},
   "outputs": [
    {
     "data": {
      "text/plain": [
       "'2.2.2'"
      ]
     },
     "execution_count": 77,
     "metadata": {},
     "output_type": "execute_result"
    }
   ],
   "source": [
    "import matplotlib\n",
    "matplotlib.__version__"
   ]
  },
  {
   "cell_type": "code",
   "execution_count": 83,
   "metadata": {},
   "outputs": [
    {
     "data": {
      "text/plain": [
       "(array([0., 0., 0., 0., 0., 0., 0., 0., 0., 0.]),\n",
       " array([0. , 0.1, 0.2, 0.3, 0.4, 0.5, 0.6, 0.7, 0.8, 0.9, 1. ]),\n",
       " <a list of 10 Patch objects>)"
      ]
     },
     "execution_count": 83,
     "metadata": {},
     "output_type": "execute_result"
    },
    {
     "data": {
      "image/png": "[encoded data removed]",
      "text/plain": [
       "<Figure size 432x288 with 1 Axes>"
      ]
     },
     "metadata": {},
     "output_type": "display_data"
    }
   ],
   "source": [
    "plt.hist(slist)"
   ]
  },
  {
   "cell_type": "code",
   "execution_count": null,
   "metadata": {},
   "outputs": [],
   "source": [
    "\n"
   ]
  },
  {
   "cell_type": "code",
   "execution_count": null,
   "metadata": {},
   "outputs": [],
   "source": []
  },
  {
   "cell_type": "code",
   "execution_count": 92,
   "metadata": {},
   "outputs": [
    {
     "name": "stdout",
     "output_type": "stream",
     "text": [
      "Collecting sklearn\n",
      "  Downloading https://files.pythonhosted.org/packages/1e/7a/dbb3be0ce9bd5c8b7e3d87328e79063f8b263b2b1bfa4774cb1147bfcd3f/sklearn-0.0.tar.gz\n",
      "Requirement already satisfied: scikit-learn in c:\\users\\ritu bains\\anaconda3\\lib\\site-packages (from sklearn) (0.19.1)\n",
      "Building wheels for collected packages: sklearn\n",
      "  Running setup.py bdist_wheel for sklearn: started\n",
      "  Running setup.py bdist_wheel for sklearn: finished with status 'done'\n",
      "  Stored in directory: C:\\Users\\ritu bains\\AppData\\Local\\pip\\Cache\\wheels\\76\\03\\bb\\589d421d27431bcd2c6da284d5f2286c8e3b2ea3cf1594c074\n",
      "Successfully built sklearn\n",
      "Installing collected packages: sklearn\n",
      "Successfully installed sklearn-0.0\n"
     ]
    }
   ],
   "source": [
    "!pip install sklearn"
   ]
  },
  {
   "cell_type": "code",
   "execution_count": 118,
   "metadata": {},
   "outputs": [
    {
     "data": {
      "text/plain": [
       "<matplotlib.collections.PathCollection at 0x2219d7e9908>"
      ]
     },
     "execution_count": 118,
     "metadata": {},
     "output_type": "execute_result"
    },
    {
     "data": {
      "image/png": "[encoded data removed]",
      "text/plain": [
       "<Figure size 432x288 with 1 Axes>"
      ]
     },
     "metadata": {},
     "output_type": "display_data"
    }
   ],
   "source": [
    "import numpy as np\n",
    "from sklearn.model_selection import train_test_split\n",
    "import matplotlib.pyplot as plt\n",
    "%matplotlib inline\n",
    "np.random.seed(2019)\n",
    "data=np.random.randn(200,2)\n",
    "data[:100,0]=data[:100,0]*4+10\n",
    "data[:100,1]=data[:100,1]*4+5\n",
    "\n",
    "data[100:,0]=data[100:,0]*4+18\n",
    "data[100:,1]=data[100:,1]*4+13\n",
    "\n",
    "y=np.append(np.ones(100),np.zeros(100))\n",
    "\n",
    "plt.scatter(data[:100,0],data[:100,1],color='red' ,\n",
    "            marker='o' ,label='class1')\n",
    "plt.scatter(data[100:,0],data[100:,1],color='blue' ,\n",
    "            marker='o', label='class1')\n"
   ]
  },
  {
   "cell_type": "code",
   "execution_count": 119,
   "metadata": {},
   "outputs": [],
   "source": [
    "x_train,x_test,y_train,y_test=train_test_split(data,y,\n",
    "                                               test_size=0.5,stratify=y)"
   ]
  },
  {
   "cell_type": "code",
   "execution_count": 148,
   "metadata": {},
   "outputs": [],
   "source": [
    "ty=x_train[:100,1]\n",
    "\n",
    "tx=x_train[:100,0]\n"
   ]
  },
  {
   "cell_type": "raw",
   "metadata": {},
   "source": []
  },
  {
   "cell_type": "code",
   "execution_count": 149,
   "metadata": {},
   "outputs": [],
   "source": [
    "def cal(x,y):\n",
    "    result=np.sqrt(np.square(tx-x)+np.square(ty-y))\n",
    "    return result"
   ]
  },
  {
   "cell_type": "code",
   "execution_count": 150,
   "metadata": {},
   "outputs": [],
   "source": [
    "d=np.argmin(cal(15,-5))"
   ]
  },
  {
   "cell_type": "code",
   "execution_count": 151,
   "metadata": {},
   "outputs": [
    {
     "data": {
      "text/plain": [
       "76"
      ]
     },
     "execution_count": 151,
     "metadata": {},
     "output_type": "execute_result"
    }
   ],
   "source": [
    "d"
   ]
  },
  {
   "cell_type": "code",
   "execution_count": 152,
   "metadata": {},
   "outputs": [
    {
     "data": {
      "text/plain": [
       "1.0"
      ]
     },
     "execution_count": 152,
     "metadata": {},
     "output_type": "execute_result"
    }
   ],
   "source": [
    "y_train[76]"
   ]
  },
  {
   "cell_type": "code",
   "execution_count": 155,
   "metadata": {},
   "outputs": [],
   "source": [
    "def cal(x,y):\n",
    "    result=np.sqrt(np.square(tx-x)+np.square(ty-y))\n",
    "    minvalue=np.min(result)\n",
    "    index=list(result).index(minvalue)\n",
    "    return y_train[index]"
   ]
  },
  {
   "cell_type": "code",
   "execution_count": 156,
   "metadata": {},
   "outputs": [
    {
     "data": {
      "text/plain": [
       "[1.0,\n",
       " 1.0,\n",
       " 1.0,\n",
       " 1.0,\n",
       " 1.0,\n",
       " 0.0,\n",
       " 0.0,\n",
       " 1.0,\n",
       " 0.0,\n",
       " 1.0,\n",
       " 1.0,\n",
       " 1.0,\n",
       " 0.0,\n",
       " 0.0,\n",
       " 1.0,\n",
       " 0.0,\n",
       " 0.0,\n",
       " 1.0,\n",
       " 0.0,\n",
       " 1.0,\n",
       " 0.0,\n",
       " 1.0,\n",
       " 0.0,\n",
       " 0.0,\n",
       " 0.0,\n",
       " 0.0,\n",
       " 0.0,\n",
       " 1.0,\n",
       " 0.0,\n",
       " 1.0,\n",
       " 0.0,\n",
       " 1.0,\n",
       " 1.0,\n",
       " 1.0,\n",
       " 0.0,\n",
       " 1.0,\n",
       " 1.0,\n",
       " 0.0,\n",
       " 0.0,\n",
       " 0.0,\n",
       " 0.0,\n",
       " 0.0,\n",
       " 0.0,\n",
       " 1.0,\n",
       " 1.0,\n",
       " 0.0,\n",
       " 0.0,\n",
       " 0.0,\n",
       " 1.0,\n",
       " 0.0,\n",
       " 1.0,\n",
       " 0.0,\n",
       " 0.0,\n",
       " 0.0,\n",
       " 0.0,\n",
       " 1.0,\n",
       " 0.0,\n",
       " 1.0,\n",
       " 1.0,\n",
       " 0.0,\n",
       " 0.0,\n",
       " 1.0,\n",
       " 1.0,\n",
       " 1.0,\n",
       " 0.0,\n",
       " 1.0,\n",
       " 1.0,\n",
       " 0.0,\n",
       " 1.0,\n",
       " 0.0,\n",
       " 0.0,\n",
       " 1.0,\n",
       " 1.0,\n",
       " 0.0,\n",
       " 0.0,\n",
       " 0.0,\n",
       " 0.0,\n",
       " 0.0,\n",
       " 0.0,\n",
       " 1.0,\n",
       " 1.0,\n",
       " 1.0,\n",
       " 0.0,\n",
       " 0.0,\n",
       " 1.0,\n",
       " 1.0,\n",
       " 1.0,\n",
       " 0.0,\n",
       " 1.0,\n",
       " 0.0,\n",
       " 0.0,\n",
       " 0.0,\n",
       " 0.0,\n",
       " 0.0,\n",
       " 0.0,\n",
       " 0.0,\n",
       " 0.0,\n",
       " 0.0,\n",
       " 1.0,\n",
       " 1.0]"
      ]
     },
     "execution_count": 156,
     "metadata": {},
     "output_type": "execute_result"
    }
   ],
   "source": [
    "m_train_list=[]\n",
    "for i in range(0,100):\n",
    "    x=x_test[i,0]\n",
    "    y=x_test[i,1]\n",
    "    m_train_list.append(cal(x,y))\n",
    "    \n",
    "    \n",
    "m_train_list"
   ]
  },
  {
   "cell_type": "code",
   "execution_count": 157,
   "metadata": {},
   "outputs": [],
   "source": [
    "count=0\n",
    "for i in range(0,100):\n",
    "    if m_train_list[i]==y_test[i]:\n",
    "        count=count+1\n",
    "    "
   ]
  },
  {
   "cell_type": "code",
   "execution_count": 158,
   "metadata": {},
   "outputs": [
    {
     "data": {
      "text/plain": [
       "84"
      ]
     },
     "execution_count": 158,
     "metadata": {},
     "output_type": "execute_result"
    }
   ],
   "source": [
    "count"
   ]
  },
  {
   "cell_type": "code",
   "execution_count": null,
   "metadata": {},
   "outputs": [],
   "source": []
  },
  {
   "cell_type": "code",
   "execution_count": null,
   "metadata": {},
   "outputs": [],
   "source": []
  },
  {
   "cell_type": "code",
   "execution_count": null,
   "metadata": {},
   "outputs": [],
   "source": []
  },
  {
   "cell_type": "code",
   "execution_count": null,
   "metadata": {},
   "outputs": [],
   "source": []
  },
  {
   "cell_type": "code",
   "execution_count": null,
   "metadata": {},
   "outputs": [],
   "source": []
  },
  {
   "cell_type": "code",
   "execution_count": 160,
   "metadata": {},
   "outputs": [],
   "source": [
    "\n",
    "def cal(x,y):\n",
    "    #5 is no of neighbour\n",
    "    no_of_neighbour=int(input(\"enter no of neighbour\"))\n",
    "    result=np.sqrt(np.square(tx-x)+np.square(ty-y))\n",
    "    sorted_result=np.sort(result)\n",
    "    sorted_result=sorted_result[:5]\n",
    "    m_index_list=[]\n",
    "    for i in range(0,5):\n",
    "        m_index_list.append(list(result).index(sorted_result[i]))\n",
    "    values=[]\n",
    "    for i in range(0,5):\n",
    "        values.append(y_train[m_index_list[i]])\n",
    "    red=0\n",
    "    blue=0\n",
    "    for i in range(0,5):\n",
    "        if values[i]==1:\n",
    "            red=red+1\n",
    "        else:\n",
    "            blue=blue+1\n",
    "    if(red>=3):\n",
    "        return 1\n",
    "    else:\n",
    "        return 0\n",
    "    \n",
    "    "
   ]
  },
  {
   "cell_type": "code",
   "execution_count": 161,
   "metadata": {},
   "outputs": [],
   "source": [
    "m_train_list=[]\n",
    "for i in range(0,100):\n",
    "    x=x_test[i,0]\n",
    "    y=x_test[i,1]\n",
    "    m_train_list.append(cal(x,y))\n",
    "    \n",
    "    \n"
   ]
  },
  {
   "cell_type": "code",
   "execution_count": 162,
   "metadata": {},
   "outputs": [],
   "source": [
    "count=0\n",
    "for i in range(0,100):\n",
    "    if m_train_list[i]==y_test[i]:\n",
    "        count=count+1\n",
    "    "
   ]
  },
  {
   "cell_type": "code",
   "execution_count": 163,
   "metadata": {},
   "outputs": [
    {
     "data": {
      "text/plain": [
       "94"
      ]
     },
     "execution_count": 163,
     "metadata": {},
     "output_type": "execute_result"
    }
   ],
   "source": [
    "count"
   ]
  },
  {
   "cell_type": "code",
   "execution_count": null,
   "metadata": {},
   "outputs": [],
   "source": []
  }
 ],
 "metadata": {
  "kernelspec": {
   "display_name": "Python 3",
   "language": "python",
   "name": "python3"
  },
  "language_info": {
   "codemirror_mode": {
    "name": "ipython",
    "version": 3
   },
   "file_extension": ".py",
   "mimetype": "text/x-python",
   "name": "python",
   "nbconvert_exporter": "python",
   "pygments_lexer": "ipython3",
   "version": "3.6.5"
  }
 },
 "nbformat": 4,
 "nbformat_minor": 2
}
