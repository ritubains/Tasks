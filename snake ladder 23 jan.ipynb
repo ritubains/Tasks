{
 "cells": [
  {
   "cell_type": "code",
   "execution_count": 1,
   "metadata": {},
   "outputs": [],
   "source": [
    "import numpy as np"
   ]
  },
  {
   "cell_type": "code",
   "execution_count": null,
   "metadata": {},
   "outputs": [],
   "source": [
    "snake_start=[95,97,93,79,75,49,67]\n",
    "snake_end=[13,25,37,27,19,47,17]\n",
    "ladder_start=[32,42,12]\n",
    "ladder_end=[62,68,98]"
   ]
  },
  {
   "cell_type": "code",
   "execution_count": null,
   "metadata": {},
   "outputs": [],
   "source": [
    "current_position=0\n",
    "i=0\n",
    "while i<10:\n",
    "    number=np.random.randint(1,7)\n",
    "    print(number)\n",
    "    current_position=current_position+number\n",
    "    for i in range(len(snake_start)):\n",
    "        \n",
    "         \n",
    "        if current_position in snake_start:\n",
    "            current_position=snake_end[i]\n",
    "    \n",
    "    \n",
    "    for i in range(len(ladder_start)):\n",
    "        \n",
    "        if current_position in ladder_start:\n",
    "            current_position=ladder_end[i]\n",
    "    i=i+1\n",
    "  \n",
    "   "
   ]
  },
  {
   "cell_type": "code",
   "execution_count": 10,
   "metadata": {},
   "outputs": [],
   "source": [
    "current_position=94\n",
    "\n",
    "#number=np.random.randint(1,7)\n",
    "current_position=current_position+1\n",
    "for i in range(len(snake_start)):\n",
    "        \n",
    "         \n",
    "        if current_position in snake_start:\n",
    "            current_position=snake_end[i]\n",
    "    \n",
    "    "
   ]
  },
  {
   "cell_type": "code",
   "execution_count": 15,
   "metadata": {},
   "outputs": [],
   "source": [
    "current_position=3\n",
    "current_position=current_position+1"
   ]
  },
  {
   "cell_type": "code",
   "execution_count": 16,
   "metadata": {},
   "outputs": [],
   "source": [
    " for i in range(len(ladder_start)):\n",
    "        \n",
    "        \n",
    "         \n",
    "        if current_position in ladder_start:\n",
    "            current_position=ladder_end[i]"
   ]
  },
  {
   "cell_type": "code",
   "execution_count": 17,
   "metadata": {},
   "outputs": [
    {
     "data": {
      "text/plain": [
       "4"
      ]
     },
     "execution_count": 17,
     "metadata": {},
     "output_type": "execute_result"
    }
   ],
   "source": [
    "current_position"
   ]
  },
  {
   "cell_type": "code",
   "execution_count": null,
   "metadata": {},
   "outputs": [],
   "source": []
  }
 ],
 "metadata": {
  "kernelspec": {
   "display_name": "Python 3",
   "language": "python",
   "name": "python3"
  },
  "language_info": {
   "codemirror_mode": {
    "name": "ipython",
    "version": 3
   },
   "file_extension": ".py",
   "mimetype": "text/x-python",
   "name": "python",
   "nbconvert_exporter": "python",
   "pygments_lexer": "ipython3",
   "version": "3.6.5"
  }
 },
 "nbformat": 4,
 "nbformat_minor": 2
}
