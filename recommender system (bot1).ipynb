{
 "cells": [
  {
   "cell_type": "code",
   "execution_count": 12,
   "metadata": {},
   "outputs": [
    {
     "name": "stderr",
     "output_type": "stream",
     "text": [
      "C:\\Users\\Ritu\\AppData\\Local\\Continuum\\anaconda3\\lib\\site-packages\\gensim\\utils.py:1197: UserWarning: detected Windows; aliasing chunkize to chunkize_serial\n",
      "  warnings.warn(\"detected Windows; aliasing chunkize to chunkize_serial\")\n"
     ]
    }
   ],
   "source": [
    "import nltk\n",
    "import pandas as pd\n",
    "import matplotlib.pyplot as plt\n",
    "import seaborn as sns\n",
    "import string\n",
    "from nltk.corpus import stopwords\n",
    "from nltk.stem.porter import PorterStemmer\n",
    "from nltk.stem import WordNetLemmatizer\n",
    "import gensim"
   ]
  },
  {
   "cell_type": "code",
   "execution_count": 2,
   "metadata": {},
   "outputs": [],
   "source": [
    "news_articles=pd.read_csv('news_articles.csv')"
   ]
  },
  {
   "cell_type": "code",
   "execution_count": 3,
   "metadata": {},
   "outputs": [],
   "source": [
    "final_doc=news_articles.copy()"
   ]
  },
  {
   "cell_type": "code",
   "execution_count": 4,
   "metadata": {},
   "outputs": [
    {
     "data": {
      "text/html": [
       "<div>\n",
       "<style scoped>\n",
       "    .dataframe tbody tr th:only-of-type {\n",
       "        vertical-align: middle;\n",
       "    }\n",
       "\n",
       "    .dataframe tbody tr th {\n",
       "        vertical-align: top;\n",
       "    }\n",
       "\n",
       "    .dataframe thead th {\n",
       "        text-align: right;\n",
       "    }\n",
       "</style>\n",
       "<table border=\"1\" class=\"dataframe\">\n",
       "  <thead>\n",
       "    <tr style=\"text-align: right;\">\n",
       "      <th></th>\n",
       "      <th>Article_Id</th>\n",
       "      <th>Title</th>\n",
       "      <th>Content</th>\n",
       "    </tr>\n",
       "  </thead>\n",
       "  <tbody>\n",
       "    <tr>\n",
       "      <th>0</th>\n",
       "      <td>0</td>\n",
       "      <td>14 dead after bus falls into canal in Telangan...</td>\n",
       "      <td>At least 14 people died and 17 others were inj...</td>\n",
       "    </tr>\n",
       "    <tr>\n",
       "      <th>1</th>\n",
       "      <td>1</td>\n",
       "      <td>Pratibha Tiwari molested on busy road   Saath ...</td>\n",
       "      <td>TV actress Pratibha Tiwari  who is best known ...</td>\n",
       "    </tr>\n",
       "    <tr>\n",
       "      <th>2</th>\n",
       "      <td>2</td>\n",
       "      <td>US  South Korea begin joint military drill ami...</td>\n",
       "      <td>The United States and South Korea began a join...</td>\n",
       "    </tr>\n",
       "    <tr>\n",
       "      <th>3</th>\n",
       "      <td>3</td>\n",
       "      <td>Illegal construction in Bengaluru  Will my hou...</td>\n",
       "      <td>The relentless drive by Bengaluru s  Bangalore...</td>\n",
       "    </tr>\n",
       "    <tr>\n",
       "      <th>4</th>\n",
       "      <td>4</td>\n",
       "      <td>Punjab Gau Rakshak Dal chief held for assaulti...</td>\n",
       "      <td>Punjab Gau Raksha Dal chief Satish Kumar and h...</td>\n",
       "    </tr>\n",
       "    <tr>\n",
       "      <th>5</th>\n",
       "      <td>5</td>\n",
       "      <td>Phillipines drug war  1 800 drug-related death...</td>\n",
       "      <td>Philippines police on Monday said that the num...</td>\n",
       "    </tr>\n",
       "    <tr>\n",
       "      <th>6</th>\n",
       "      <td>6</td>\n",
       "      <td>Infosys shares likely to fall on Tuesday after...</td>\n",
       "      <td>Infosys shares could fall sharply on Tuesday w...</td>\n",
       "    </tr>\n",
       "    <tr>\n",
       "      <th>7</th>\n",
       "      <td>7</td>\n",
       "      <td>Dialogue crucial in finding permanent solution...</td>\n",
       "      <td>Prime Minister Narendra Modi has expressed dee...</td>\n",
       "    </tr>\n",
       "    <tr>\n",
       "      <th>8</th>\n",
       "      <td>8</td>\n",
       "      <td>School bus overturns in Jammu killing 1 and in...</td>\n",
       "      <td>A school bus in the town of Bishnah in Jammu s...</td>\n",
       "    </tr>\n",
       "    <tr>\n",
       "      <th>9</th>\n",
       "      <td>9</td>\n",
       "      <td>Rajasthan  Villagers rescue 50 kids after scho...</td>\n",
       "      <td>A school bus carrying around 50 children fell ...</td>\n",
       "    </tr>\n",
       "    <tr>\n",
       "      <th>10</th>\n",
       "      <td>10</td>\n",
       "      <td>Karnataka bus accident  8 schoolchildren dead ...</td>\n",
       "      <td>At least eight schoolchildren were killed when...</td>\n",
       "    </tr>\n",
       "    <tr>\n",
       "      <th>11</th>\n",
       "      <td>11</td>\n",
       "      <td>Meghalaya accident  At least 30 killed and 8 i...</td>\n",
       "      <td>UPDATE  2 35 p m  IST   The death toll has ris...</td>\n",
       "    </tr>\n",
       "    <tr>\n",
       "      <th>12</th>\n",
       "      <td>12</td>\n",
       "      <td>Tamil Nadu  2 students dead  over 40 injured a...</td>\n",
       "      <td>Two students died while over 40 were electrocu...</td>\n",
       "    </tr>\n",
       "    <tr>\n",
       "      <th>13</th>\n",
       "      <td>13</td>\n",
       "      <td>Uttarakhand  12 dead as bus falls into a gorge...</td>\n",
       "      <td>Twelve people died and at least eight were inj...</td>\n",
       "    </tr>\n",
       "    <tr>\n",
       "      <th>14</th>\n",
       "      <td>14</td>\n",
       "      <td>42 missing in Mahad bridge collapse  Met says ...</td>\n",
       "      <td>The death toll in the bridge collapse near Mah...</td>\n",
       "    </tr>\n",
       "    <tr>\n",
       "      <th>15</th>\n",
       "      <td>15</td>\n",
       "      <td>Mumbai-Goa bridge collapse  Two bodies recover...</td>\n",
       "      <td>4 30 p m  IST   Maharashtra Chief Minister Dev...</td>\n",
       "    </tr>\n",
       "    <tr>\n",
       "      <th>16</th>\n",
       "      <td>16</td>\n",
       "      <td>Mumbai-Goa bridge collapse  Death toll rises t...</td>\n",
       "      <td>At least four more bodies were recovered from ...</td>\n",
       "    </tr>\n",
       "    <tr>\n",
       "      <th>17</th>\n",
       "      <td>17</td>\n",
       "      <td>Mumbai-Goa bridge collapse  What we know so fa...</td>\n",
       "      <td>A British-era bridge in Maharashtra collapsed ...</td>\n",
       "    </tr>\n",
       "    <tr>\n",
       "      <th>18</th>\n",
       "      <td>18</td>\n",
       "      <td>Maharashtra  4 from Pune killed  1 injured in ...</td>\n",
       "      <td>At least four people were killed and one injur...</td>\n",
       "    </tr>\n",
       "    <tr>\n",
       "      <th>19</th>\n",
       "      <td>19</td>\n",
       "      <td>Uttar Pradesh  7 children dead after van hits ...</td>\n",
       "      <td>At least seven children died on Monday after a...</td>\n",
       "    </tr>\n",
       "    <tr>\n",
       "      <th>20</th>\n",
       "      <td>20</td>\n",
       "      <td>Maharashtra  7-month-old baby survives Bhiwand...</td>\n",
       "      <td>In a tragic incident on Sunday  as many as eig...</td>\n",
       "    </tr>\n",
       "    <tr>\n",
       "      <th>21</th>\n",
       "      <td>21</td>\n",
       "      <td>Madhya Pradesh  5 dead  10 injured in truck-je...</td>\n",
       "      <td>Five people died and 10 were injured after a t...</td>\n",
       "    </tr>\n",
       "    <tr>\n",
       "      <th>22</th>\n",
       "      <td>22</td>\n",
       "      <td>26 killed after bus catches fire in Taiwan</td>\n",
       "      <td>At least 26 people  mostly tourists from China...</td>\n",
       "    </tr>\n",
       "    <tr>\n",
       "      <th>23</th>\n",
       "      <td>23</td>\n",
       "      <td>Jaipur  3 killed  5 injured as MLA s son alleg...</td>\n",
       "      <td>A BMW car driven by a Rajasthan MLA s son  sus...</td>\n",
       "    </tr>\n",
       "    <tr>\n",
       "      <th>24</th>\n",
       "      <td>24</td>\n",
       "      <td>Fire Breaks Out At Maharashtra Secretariat Com...</td>\n",
       "      <td>A fire broke out at Mantralaya  the Maharashtr...</td>\n",
       "    </tr>\n",
       "    <tr>\n",
       "      <th>25</th>\n",
       "      <td>25</td>\n",
       "      <td>18-Year-Old Killed in Mumbai Building Collapse</td>\n",
       "      <td>One person died and five others were injured a...</td>\n",
       "    </tr>\n",
       "    <tr>\n",
       "      <th>26</th>\n",
       "      <td>26</td>\n",
       "      <td>Forensic Report Rules Out Sabotage As Cause Be...</td>\n",
       "      <td>A forensic report by Central Forensic Science ...</td>\n",
       "    </tr>\n",
       "    <tr>\n",
       "      <th>27</th>\n",
       "      <td>27</td>\n",
       "      <td>Star Trek  actor Anton Yelchin dead in fatal ...</td>\n",
       "      <td>Anton Yelchin  who was best known for portrayi...</td>\n",
       "    </tr>\n",
       "    <tr>\n",
       "      <th>28</th>\n",
       "      <td>28</td>\n",
       "      <td>Multilingual actress Pranitha escapes road acc...</td>\n",
       "      <td>Actress Pranitha Subhash met with an accident ...</td>\n",
       "    </tr>\n",
       "    <tr>\n",
       "      <th>29</th>\n",
       "      <td>29</td>\n",
       "      <td>Mumbai-Pune Expressway accident kills 17  inju...</td>\n",
       "      <td>Update  11 26 a m  IST   The police said the d...</td>\n",
       "    </tr>\n",
       "    <tr>\n",
       "      <th>...</th>\n",
       "      <td>...</td>\n",
       "      <td>...</td>\n",
       "      <td>...</td>\n",
       "    </tr>\n",
       "    <tr>\n",
       "      <th>4801</th>\n",
       "      <td>4801</td>\n",
       "      <td>India s rank goes up 12 notches in World Bank ...</td>\n",
       "      <td>India s rank in the  Doing Business Report 135...</td>\n",
       "    </tr>\n",
       "    <tr>\n",
       "      <th>4802</th>\n",
       "      <td>4802</td>\n",
       "      <td>China Spent  147 billion To Halt Stock Market ...</td>\n",
       "      <td>The Chinese government bought shares worth 900...</td>\n",
       "    </tr>\n",
       "    <tr>\n",
       "      <th>4803</th>\n",
       "      <td>4803</td>\n",
       "      <td>From Five-and-a-Half-Year Low to Three-Month H...</td>\n",
       "      <td>Even as the global stock markets tumbled to mu...</td>\n",
       "    </tr>\n",
       "    <tr>\n",
       "      <th>4804</th>\n",
       "      <td>4804</td>\n",
       "      <td>Big B Invests in Fire Fighting Equipment Compa...</td>\n",
       "      <td>Reports of Bollywood superstar Amitabh Bachcha...</td>\n",
       "    </tr>\n",
       "    <tr>\n",
       "      <th>4805</th>\n",
       "      <td>4805</td>\n",
       "      <td>Moody s Trims India s Growth Forecast to 7  Th...</td>\n",
       "      <td>Global rating agency Moody s Investors Service...</td>\n",
       "    </tr>\n",
       "    <tr>\n",
       "      <th>4806</th>\n",
       "      <td>4806</td>\n",
       "      <td>Sensex to Touch 32 200 by December 2015  Citi</td>\n",
       "      <td>Earning upgrades would propel the S P BSE Sens...</td>\n",
       "    </tr>\n",
       "    <tr>\n",
       "      <th>4807</th>\n",
       "      <td>4807</td>\n",
       "      <td>Can Sensex Gain from The Slump in Chinese Stoc...</td>\n",
       "      <td>The Chinese stock markets have fallen sharply ...</td>\n",
       "    </tr>\n",
       "    <tr>\n",
       "      <th>4808</th>\n",
       "      <td>4808</td>\n",
       "      <td>Sensex May Fall by Over 2 000 Points in Next 3...</td>\n",
       "      <td>Although the domestic stock markets have witne...</td>\n",
       "    </tr>\n",
       "    <tr>\n",
       "      <th>4809</th>\n",
       "      <td>4809</td>\n",
       "      <td>Gold Prices May See Free Fall on US Fed Rate Hike</td>\n",
       "      <td>Things seem to be getting worse for precious m...</td>\n",
       "    </tr>\n",
       "    <tr>\n",
       "      <th>4810</th>\n",
       "      <td>4810</td>\n",
       "      <td>Gold Prices May Plunge to Rs 23 000 in a Month</td>\n",
       "      <td>Gold prices are estimated to decline further t...</td>\n",
       "    </tr>\n",
       "    <tr>\n",
       "      <th>4811</th>\n",
       "      <td>4811</td>\n",
       "      <td>Rajesh Exports Buys 100  Stake in World s Larg...</td>\n",
       "      <td>Domestic jewellery maker Rajesh Exports Ltd  R...</td>\n",
       "    </tr>\n",
       "    <tr>\n",
       "      <th>4812</th>\n",
       "      <td>4812</td>\n",
       "      <td>ASUS Zenfone 2 First Impression  A Well Config...</td>\n",
       "      <td>Ahead of its official launch in India  ASUS ar...</td>\n",
       "    </tr>\n",
       "    <tr>\n",
       "      <th>4813</th>\n",
       "      <td>4813</td>\n",
       "      <td>Lenovo A7000 vs Asus Zenfone 2  ZE500CL  vs Mo...</td>\n",
       "      <td>If you are out shopping for a budget smartphon...</td>\n",
       "    </tr>\n",
       "    <tr>\n",
       "      <th>4814</th>\n",
       "      <td>4814</td>\n",
       "      <td>Asus Zenfone 2 Release Date  Features  Price  ...</td>\n",
       "      <td>The much-hyped Asus Zenfone 2 is all set to hi...</td>\n",
       "    </tr>\n",
       "    <tr>\n",
       "      <th>4815</th>\n",
       "      <td>4815</td>\n",
       "      <td>Top 10 Tips   Tricks for Gamers to Achieve Pin...</td>\n",
       "      <td>Even today  personal computers  PCs  are prefe...</td>\n",
       "    </tr>\n",
       "    <tr>\n",
       "      <th>4816</th>\n",
       "      <td>4816</td>\n",
       "      <td>Did You Know  Moto G  Moto E and Moto X have S...</td>\n",
       "      <td>In the Indian smartphone market  Motorola s Mo...</td>\n",
       "    </tr>\n",
       "    <tr>\n",
       "      <th>4817</th>\n",
       "      <td>4817</td>\n",
       "      <td>Six Essential Security Tips Every Whatsapp Use...</td>\n",
       "      <td>IT security company ESET has recently released...</td>\n",
       "    </tr>\n",
       "    <tr>\n",
       "      <th>4818</th>\n",
       "      <td>4818</td>\n",
       "      <td>Top 10 Smartphones and Gadgets Released at MWC...</td>\n",
       "      <td>The GSM Association or GSMA association of mob...</td>\n",
       "    </tr>\n",
       "    <tr>\n",
       "      <th>4819</th>\n",
       "      <td>4819</td>\n",
       "      <td>MWC 2015  Samsung Galaxy S6 Edge Wins Best New...</td>\n",
       "      <td>Samsung has launched their latest flagship Sam...</td>\n",
       "    </tr>\n",
       "    <tr>\n",
       "      <th>4820</th>\n",
       "      <td>4820</td>\n",
       "      <td>Top Six 3D Printing Discoveries of February 2015</td>\n",
       "      <td>The 3D printing technology has undergone lots ...</td>\n",
       "    </tr>\n",
       "    <tr>\n",
       "      <th>4821</th>\n",
       "      <td>4821</td>\n",
       "      <td>Mobile World Congress 2015  1st Day Highlights...</td>\n",
       "      <td>Known as the Mecca of smartphones lovers  the ...</td>\n",
       "    </tr>\n",
       "    <tr>\n",
       "      <th>4822</th>\n",
       "      <td>4822</td>\n",
       "      <td>Samsung Galaxy S6 and Galaxy S6 Edge  6 Signif...</td>\n",
       "      <td>Samsung has finally launched its much-awaited ...</td>\n",
       "    </tr>\n",
       "    <tr>\n",
       "      <th>4823</th>\n",
       "      <td>4823</td>\n",
       "      <td>HTC One M9 Plus Leaks Online  Expected Feature...</td>\n",
       "      <td>HTC has launched its latest flagship smartphon...</td>\n",
       "    </tr>\n",
       "    <tr>\n",
       "      <th>4824</th>\n",
       "      <td>4824</td>\n",
       "      <td>Samsung Galaxy S6  S6 Edge Launched in India  ...</td>\n",
       "      <td>Smartphone leader Samsung on Monday  23 March ...</td>\n",
       "    </tr>\n",
       "    <tr>\n",
       "      <th>4825</th>\n",
       "      <td>4825</td>\n",
       "      <td>iPhone 6 vs Samsung Galaxy S6 and S6 Edge  Hig...</td>\n",
       "      <td>Apple s iPhone 6 and iPhone 6 Plus have been d...</td>\n",
       "    </tr>\n",
       "    <tr>\n",
       "      <th>4826</th>\n",
       "      <td>4826</td>\n",
       "      <td>Samsung Galaxy S6 vs Apple iPhone 6  Top Samsu...</td>\n",
       "      <td>Apple won its share of fame when it launched i...</td>\n",
       "    </tr>\n",
       "    <tr>\n",
       "      <th>4827</th>\n",
       "      <td>4827</td>\n",
       "      <td>HTC Latest Octa Core Smartphone One E9 Spotted...</td>\n",
       "      <td>HTC launched One M9 at MWC  2015 few days back...</td>\n",
       "    </tr>\n",
       "    <tr>\n",
       "      <th>4828</th>\n",
       "      <td>4828</td>\n",
       "      <td>Samsung Galaxy S6 Active  Water Resistant Vari...</td>\n",
       "      <td>Samsung s critically-acclaimed Galaxy S6 and G...</td>\n",
       "    </tr>\n",
       "    <tr>\n",
       "      <th>4829</th>\n",
       "      <td>4829</td>\n",
       "      <td>Google Rolls Out Android 5 1 Lollipop OTA  Imp...</td>\n",
       "      <td>Google has finally released the Android 5 1 Lo...</td>\n",
       "    </tr>\n",
       "    <tr>\n",
       "      <th>4830</th>\n",
       "      <td>4830</td>\n",
       "      <td>Apple Decorates Homepage with Beautiful Images...</td>\n",
       "      <td>Apple is now the largest smartphone company in...</td>\n",
       "    </tr>\n",
       "  </tbody>\n",
       "</table>\n",
       "<p>4831 rows × 3 columns</p>\n",
       "</div>"
      ],
      "text/plain": [
       "      Article_Id                                              Title  \\\n",
       "0              0  14 dead after bus falls into canal in Telangan...   \n",
       "1              1  Pratibha Tiwari molested on busy road   Saath ...   \n",
       "2              2  US  South Korea begin joint military drill ami...   \n",
       "3              3  Illegal construction in Bengaluru  Will my hou...   \n",
       "4              4  Punjab Gau Rakshak Dal chief held for assaulti...   \n",
       "5              5  Phillipines drug war  1 800 drug-related death...   \n",
       "6              6  Infosys shares likely to fall on Tuesday after...   \n",
       "7              7  Dialogue crucial in finding permanent solution...   \n",
       "8              8  School bus overturns in Jammu killing 1 and in...   \n",
       "9              9  Rajasthan  Villagers rescue 50 kids after scho...   \n",
       "10            10  Karnataka bus accident  8 schoolchildren dead ...   \n",
       "11            11  Meghalaya accident  At least 30 killed and 8 i...   \n",
       "12            12  Tamil Nadu  2 students dead  over 40 injured a...   \n",
       "13            13  Uttarakhand  12 dead as bus falls into a gorge...   \n",
       "14            14  42 missing in Mahad bridge collapse  Met says ...   \n",
       "15            15  Mumbai-Goa bridge collapse  Two bodies recover...   \n",
       "16            16  Mumbai-Goa bridge collapse  Death toll rises t...   \n",
       "17            17  Mumbai-Goa bridge collapse  What we know so fa...   \n",
       "18            18  Maharashtra  4 from Pune killed  1 injured in ...   \n",
       "19            19  Uttar Pradesh  7 children dead after van hits ...   \n",
       "20            20  Maharashtra  7-month-old baby survives Bhiwand...   \n",
       "21            21  Madhya Pradesh  5 dead  10 injured in truck-je...   \n",
       "22            22         26 killed after bus catches fire in Taiwan   \n",
       "23            23  Jaipur  3 killed  5 injured as MLA s son alleg...   \n",
       "24            24  Fire Breaks Out At Maharashtra Secretariat Com...   \n",
       "25            25     18-Year-Old Killed in Mumbai Building Collapse   \n",
       "26            26  Forensic Report Rules Out Sabotage As Cause Be...   \n",
       "27            27   Star Trek  actor Anton Yelchin dead in fatal ...   \n",
       "28            28  Multilingual actress Pranitha escapes road acc...   \n",
       "29            29  Mumbai-Pune Expressway accident kills 17  inju...   \n",
       "...          ...                                                ...   \n",
       "4801        4801  India s rank goes up 12 notches in World Bank ...   \n",
       "4802        4802  China Spent  147 billion To Halt Stock Market ...   \n",
       "4803        4803  From Five-and-a-Half-Year Low to Three-Month H...   \n",
       "4804        4804  Big B Invests in Fire Fighting Equipment Compa...   \n",
       "4805        4805  Moody s Trims India s Growth Forecast to 7  Th...   \n",
       "4806        4806      Sensex to Touch 32 200 by December 2015  Citi   \n",
       "4807        4807  Can Sensex Gain from The Slump in Chinese Stoc...   \n",
       "4808        4808  Sensex May Fall by Over 2 000 Points in Next 3...   \n",
       "4809        4809  Gold Prices May See Free Fall on US Fed Rate Hike   \n",
       "4810        4810     Gold Prices May Plunge to Rs 23 000 in a Month   \n",
       "4811        4811  Rajesh Exports Buys 100  Stake in World s Larg...   \n",
       "4812        4812  ASUS Zenfone 2 First Impression  A Well Config...   \n",
       "4813        4813  Lenovo A7000 vs Asus Zenfone 2  ZE500CL  vs Mo...   \n",
       "4814        4814  Asus Zenfone 2 Release Date  Features  Price  ...   \n",
       "4815        4815  Top 10 Tips   Tricks for Gamers to Achieve Pin...   \n",
       "4816        4816  Did You Know  Moto G  Moto E and Moto X have S...   \n",
       "4817        4817  Six Essential Security Tips Every Whatsapp Use...   \n",
       "4818        4818  Top 10 Smartphones and Gadgets Released at MWC...   \n",
       "4819        4819  MWC 2015  Samsung Galaxy S6 Edge Wins Best New...   \n",
       "4820        4820   Top Six 3D Printing Discoveries of February 2015   \n",
       "4821        4821  Mobile World Congress 2015  1st Day Highlights...   \n",
       "4822        4822  Samsung Galaxy S6 and Galaxy S6 Edge  6 Signif...   \n",
       "4823        4823  HTC One M9 Plus Leaks Online  Expected Feature...   \n",
       "4824        4824  Samsung Galaxy S6  S6 Edge Launched in India  ...   \n",
       "4825        4825  iPhone 6 vs Samsung Galaxy S6 and S6 Edge  Hig...   \n",
       "4826        4826  Samsung Galaxy S6 vs Apple iPhone 6  Top Samsu...   \n",
       "4827        4827  HTC Latest Octa Core Smartphone One E9 Spotted...   \n",
       "4828        4828  Samsung Galaxy S6 Active  Water Resistant Vari...   \n",
       "4829        4829  Google Rolls Out Android 5 1 Lollipop OTA  Imp...   \n",
       "4830        4830  Apple Decorates Homepage with Beautiful Images...   \n",
       "\n",
       "                                                Content  \n",
       "0     At least 14 people died and 17 others were inj...  \n",
       "1     TV actress Pratibha Tiwari  who is best known ...  \n",
       "2     The United States and South Korea began a join...  \n",
       "3     The relentless drive by Bengaluru s  Bangalore...  \n",
       "4     Punjab Gau Raksha Dal chief Satish Kumar and h...  \n",
       "5     Philippines police on Monday said that the num...  \n",
       "6     Infosys shares could fall sharply on Tuesday w...  \n",
       "7     Prime Minister Narendra Modi has expressed dee...  \n",
       "8     A school bus in the town of Bishnah in Jammu s...  \n",
       "9     A school bus carrying around 50 children fell ...  \n",
       "10    At least eight schoolchildren were killed when...  \n",
       "11    UPDATE  2 35 p m  IST   The death toll has ris...  \n",
       "12    Two students died while over 40 were electrocu...  \n",
       "13    Twelve people died and at least eight were inj...  \n",
       "14    The death toll in the bridge collapse near Mah...  \n",
       "15    4 30 p m  IST   Maharashtra Chief Minister Dev...  \n",
       "16    At least four more bodies were recovered from ...  \n",
       "17    A British-era bridge in Maharashtra collapsed ...  \n",
       "18    At least four people were killed and one injur...  \n",
       "19    At least seven children died on Monday after a...  \n",
       "20    In a tragic incident on Sunday  as many as eig...  \n",
       "21    Five people died and 10 were injured after a t...  \n",
       "22    At least 26 people  mostly tourists from China...  \n",
       "23    A BMW car driven by a Rajasthan MLA s son  sus...  \n",
       "24    A fire broke out at Mantralaya  the Maharashtr...  \n",
       "25    One person died and five others were injured a...  \n",
       "26    A forensic report by Central Forensic Science ...  \n",
       "27    Anton Yelchin  who was best known for portrayi...  \n",
       "28    Actress Pranitha Subhash met with an accident ...  \n",
       "29    Update  11 26 a m  IST   The police said the d...  \n",
       "...                                                 ...  \n",
       "4801  India s rank in the  Doing Business Report 135...  \n",
       "4802  The Chinese government bought shares worth 900...  \n",
       "4803  Even as the global stock markets tumbled to mu...  \n",
       "4804  Reports of Bollywood superstar Amitabh Bachcha...  \n",
       "4805  Global rating agency Moody s Investors Service...  \n",
       "4806  Earning upgrades would propel the S P BSE Sens...  \n",
       "4807  The Chinese stock markets have fallen sharply ...  \n",
       "4808  Although the domestic stock markets have witne...  \n",
       "4809  Things seem to be getting worse for precious m...  \n",
       "4810  Gold prices are estimated to decline further t...  \n",
       "4811  Domestic jewellery maker Rajesh Exports Ltd  R...  \n",
       "4812  Ahead of its official launch in India  ASUS ar...  \n",
       "4813  If you are out shopping for a budget smartphon...  \n",
       "4814  The much-hyped Asus Zenfone 2 is all set to hi...  \n",
       "4815  Even today  personal computers  PCs  are prefe...  \n",
       "4816  In the Indian smartphone market  Motorola s Mo...  \n",
       "4817  IT security company ESET has recently released...  \n",
       "4818  The GSM Association or GSMA association of mob...  \n",
       "4819  Samsung has launched their latest flagship Sam...  \n",
       "4820  The 3D printing technology has undergone lots ...  \n",
       "4821  Known as the Mecca of smartphones lovers  the ...  \n",
       "4822  Samsung has finally launched its much-awaited ...  \n",
       "4823  HTC has launched its latest flagship smartphon...  \n",
       "4824  Smartphone leader Samsung on Monday  23 March ...  \n",
       "4825  Apple s iPhone 6 and iPhone 6 Plus have been d...  \n",
       "4826  Apple won its share of fame when it launched i...  \n",
       "4827  HTC launched One M9 at MWC  2015 few days back...  \n",
       "4828  Samsung s critically-acclaimed Galaxy S6 and G...  \n",
       "4829  Google has finally released the Android 5 1 Lo...  \n",
       "4830  Apple is now the largest smartphone company in...  \n",
       "\n",
       "[4831 rows x 3 columns]"
      ]
     },
     "execution_count": 4,
     "metadata": {},
     "output_type": "execute_result"
    }
   ],
   "source": [
    "final_doc.drop(columns=['Author','Date','URL'])"
   ]
  },
  {
   "cell_type": "code",
   "execution_count": 5,
   "metadata": {},
   "outputs": [],
   "source": [
    "from nltk.tokenize import word_tokenize,sent_tokenize"
   ]
  },
  {
   "cell_type": "code",
   "execution_count": 6,
   "metadata": {},
   "outputs": [],
   "source": [
    "stop_words=set(stopwords.words('english'))\n",
    "exclude=set(string.punctuation)\n",
    "wordnet_lemmatizer=WordNetLemmatizer()\n"
   ]
  },
  {
   "cell_type": "code",
   "execution_count": 7,
   "metadata": {},
   "outputs": [],
   "source": [
    "def lemma(sentence):\n",
    "    tokenwords=word_tokenize(sentence)\n",
    "    stemlist=[]\n",
    "    for word in tokenwords:\n",
    "        stemlist.append(wordnet_lemmatizer.lemmatize(word))\n",
    "        stemlist.append(\" \")\n",
    "    return \" \".join(stemlist)"
   ]
  },
  {
   "cell_type": "code",
   "execution_count": 8,
   "metadata": {},
   "outputs": [],
   "source": [
    "def cleaner(sentence):\n",
    "    tokenwords=word_tokenize(sentence)\n",
    "    remove_stopword=[word for word in tokenwords if word not in stop_words]\n",
    "    remove_punc=[word for word in remove_stopword if word not in exclude]\n",
    "    return \" \".join(remove_punc)"
   ]
  },
  {
   "cell_type": "code",
   "execution_count": 9,
   "metadata": {},
   "outputs": [],
   "source": [
    "final_doc['processed_data']=final_doc['Title'].apply(cleaner)\n",
    "final_doc['processed_data']=final_doc['Title'].apply(lemma)\n",
    "final_doc['processed_data_title']=final_doc['Content'].apply(cleaner)\n",
    "final_doc['processed_data_title']=final_doc['Content'].apply(lemma)"
   ]
  },
  {
   "cell_type": "code",
   "execution_count": 16,
   "metadata": {},
   "outputs": [
    {
     "data": {
      "text/html": [
       "<div>\n",
       "<style scoped>\n",
       "    .dataframe tbody tr th:only-of-type {\n",
       "        vertical-align: middle;\n",
       "    }\n",
       "\n",
       "    .dataframe tbody tr th {\n",
       "        vertical-align: top;\n",
       "    }\n",
       "\n",
       "    .dataframe thead th {\n",
       "        text-align: right;\n",
       "    }\n",
       "</style>\n",
       "<table border=\"1\" class=\"dataframe\">\n",
       "  <thead>\n",
       "    <tr style=\"text-align: right;\">\n",
       "      <th></th>\n",
       "      <th>Article_Id</th>\n",
       "      <th>Title</th>\n",
       "      <th>Author</th>\n",
       "      <th>Date</th>\n",
       "      <th>Content</th>\n",
       "      <th>URL</th>\n",
       "      <th>processed_data</th>\n",
       "      <th>processed_data_title</th>\n",
       "    </tr>\n",
       "  </thead>\n",
       "  <tbody>\n",
       "    <tr>\n",
       "      <th>0</th>\n",
       "      <td>0</td>\n",
       "      <td>14 dead after bus falls into canal in Telangan...</td>\n",
       "      <td>Devyani Sultania</td>\n",
       "      <td>August 22, 2016 12:34 IST</td>\n",
       "      <td>At least 14 people died and 17 others were inj...</td>\n",
       "      <td>http://www.ibtimes.co.in/14-dead-after-bus-fal...</td>\n",
       "      <td>14   dead   after   bus   fall   into   canal ...</td>\n",
       "      <td>At   least   14   people   died   and   17   o...</td>\n",
       "    </tr>\n",
       "    <tr>\n",
       "      <th>1</th>\n",
       "      <td>1</td>\n",
       "      <td>Pratibha Tiwari molested on busy road   Saath ...</td>\n",
       "      <td>Suparno Sarkar</td>\n",
       "      <td>August 22, 2016 19:47 IST</td>\n",
       "      <td>TV actress Pratibha Tiwari  who is best known ...</td>\n",
       "      <td>NaN</td>\n",
       "      <td>Pratibha   Tiwari   molested   on   busy   roa...</td>\n",
       "      <td>TV   actress   Pratibha   Tiwari   who   is   ...</td>\n",
       "    </tr>\n",
       "    <tr>\n",
       "      <th>2</th>\n",
       "      <td>2</td>\n",
       "      <td>US  South Korea begin joint military drill ami...</td>\n",
       "      <td>Namrata Tripathi</td>\n",
       "      <td>August 22, 2016 18:10 IST</td>\n",
       "      <td>The United States and South Korea began a join...</td>\n",
       "      <td>http://www.ibtimes.co.in/us-south-korea-begin-...</td>\n",
       "      <td>US   South   Korea   begin   joint   military ...</td>\n",
       "      <td>The   United   States   and   South   Korea   ...</td>\n",
       "    </tr>\n",
       "    <tr>\n",
       "      <th>3</th>\n",
       "      <td>3</td>\n",
       "      <td>Illegal construction in Bengaluru  Will my hou...</td>\n",
       "      <td>S V Krishnamachari</td>\n",
       "      <td>August 22, 2016 17:39 IST</td>\n",
       "      <td>The relentless drive by Bengaluru s  Bangalore...</td>\n",
       "      <td>http://www.ibtimes.co.in/illegal-construction-...</td>\n",
       "      <td>Illegal   construction   in   Bengaluru   Will...</td>\n",
       "      <td>The   relentless   drive   by   Bengaluru   s ...</td>\n",
       "    </tr>\n",
       "    <tr>\n",
       "      <th>4</th>\n",
       "      <td>4</td>\n",
       "      <td>Punjab Gau Rakshak Dal chief held for assaulti...</td>\n",
       "      <td>Pranshu Rathee</td>\n",
       "      <td>August 22, 2016 17:34 IST</td>\n",
       "      <td>Punjab Gau Raksha Dal chief Satish Kumar and h...</td>\n",
       "      <td>http://www.ibtimes.co.in/punjab-gau-rakshak-da...</td>\n",
       "      <td>Punjab   Gau   Rakshak   Dal   chief   held   ...</td>\n",
       "      <td>Punjab   Gau   Raksha   Dal   chief   Satish  ...</td>\n",
       "    </tr>\n",
       "  </tbody>\n",
       "</table>\n",
       "</div>"
      ],
      "text/plain": [
       "   Article_Id                                              Title  \\\n",
       "0           0  14 dead after bus falls into canal in Telangan...   \n",
       "1           1  Pratibha Tiwari molested on busy road   Saath ...   \n",
       "2           2  US  South Korea begin joint military drill ami...   \n",
       "3           3  Illegal construction in Bengaluru  Will my hou...   \n",
       "4           4  Punjab Gau Rakshak Dal chief held for assaulti...   \n",
       "\n",
       "               Author                       Date  \\\n",
       "0    Devyani Sultania  August 22, 2016 12:34 IST   \n",
       "1      Suparno Sarkar  August 22, 2016 19:47 IST   \n",
       "2    Namrata Tripathi  August 22, 2016 18:10 IST   \n",
       "3  S V Krishnamachari  August 22, 2016 17:39 IST   \n",
       "4      Pranshu Rathee  August 22, 2016 17:34 IST   \n",
       "\n",
       "                                             Content  \\\n",
       "0  At least 14 people died and 17 others were inj...   \n",
       "1  TV actress Pratibha Tiwari  who is best known ...   \n",
       "2  The United States and South Korea began a join...   \n",
       "3  The relentless drive by Bengaluru s  Bangalore...   \n",
       "4  Punjab Gau Raksha Dal chief Satish Kumar and h...   \n",
       "\n",
       "                                                 URL  \\\n",
       "0  http://www.ibtimes.co.in/14-dead-after-bus-fal...   \n",
       "1                                                NaN   \n",
       "2  http://www.ibtimes.co.in/us-south-korea-begin-...   \n",
       "3  http://www.ibtimes.co.in/illegal-construction-...   \n",
       "4  http://www.ibtimes.co.in/punjab-gau-rakshak-da...   \n",
       "\n",
       "                                      processed_data  \\\n",
       "0  14   dead   after   bus   fall   into   canal ...   \n",
       "1  Pratibha   Tiwari   molested   on   busy   roa...   \n",
       "2  US   South   Korea   begin   joint   military ...   \n",
       "3  Illegal   construction   in   Bengaluru   Will...   \n",
       "4  Punjab   Gau   Rakshak   Dal   chief   held   ...   \n",
       "\n",
       "                                processed_data_title  \n",
       "0  At   least   14   people   died   and   17   o...  \n",
       "1  TV   actress   Pratibha   Tiwari   who   is   ...  \n",
       "2  The   United   States   and   South   Korea   ...  \n",
       "3  The   relentless   drive   by   Bengaluru   s ...  \n",
       "4  Punjab   Gau   Raksha   Dal   chief   Satish  ...  "
      ]
     },
     "execution_count": 16,
     "metadata": {},
     "output_type": "execute_result"
    }
   ],
   "source": [
    "final_doc.head()"
   ]
  },
  {
   "cell_type": "code",
   "execution_count": 18,
   "metadata": {},
   "outputs": [],
   "source": [
    "from sklearn.feature_extraction.text import CountVectorizer"
   ]
  },
  {
   "cell_type": "code",
   "execution_count": 19,
   "metadata": {},
   "outputs": [],
   "source": [
    "bow_transform=CountVectorizer().fit(final_doc['processed_data_title'])"
   ]
  },
  {
   "cell_type": "code",
   "execution_count": 20,
   "metadata": {},
   "outputs": [
    {
     "name": "stdout",
     "output_type": "stream",
     "text": [
      "CountVectorizer(analyzer='word', binary=False, decode_error='strict',\n",
      "        dtype=<class 'numpy.int64'>, encoding='utf-8', input='content',\n",
      "        lowercase=True, max_df=1.0, max_features=None, min_df=1,\n",
      "        ngram_range=(1, 1), preprocessor=None, stop_words=None,\n",
      "        strip_accents=None, token_pattern='(?u)\\\\b\\\\w\\\\w+\\\\b',\n",
      "        tokenizer=None, vocabulary=None)\n"
     ]
    }
   ],
   "source": [
    "print(bow_transform)"
   ]
  },
  {
   "cell_type": "code",
   "execution_count": 21,
   "metadata": {},
   "outputs": [],
   "source": [
    "tf=bow_transform.fit_transform(final_doc['processed_data'])"
   ]
  },
  {
   "cell_type": "code",
   "execution_count": 22,
   "metadata": {},
   "outputs": [
    {
     "name": "stdout",
     "output_type": "stream",
     "text": [
      "9024\n"
     ]
    }
   ],
   "source": [
    "print(len(bow_transform.vocabulary_))"
   ]
  },
  {
   "cell_type": "code",
   "execution_count": 23,
   "metadata": {},
   "outputs": [],
   "source": [
    "feature_name=bow_transform.get_feature_names()"
   ]
  },
  {
   "cell_type": "code",
   "execution_count": 38,
   "metadata": {},
   "outputs": [
    {
     "name": "stdout",
     "output_type": "stream",
     "text": [
      "[[0 0 0 ... 0 0 0]\n",
      " [0 0 0 ... 0 0 0]\n",
      " [0 0 0 ... 0 0 0]\n",
      " ...\n",
      " [0 0 0 ... 0 0 0]\n",
      " [0 0 0 ... 0 0 0]\n",
      " [0 0 0 ... 0 0 0]]\n"
     ]
    }
   ],
   "source": [
    "print(tf.toarray())"
   ]
  },
  {
   "cell_type": "code",
   "execution_count": 24,
   "metadata": {},
   "outputs": [],
   "source": [
    "from sklearn.decomposition import LatentDirichletAllocation"
   ]
  },
  {
   "cell_type": "code",
   "execution_count": 37,
   "metadata": {},
   "outputs": [
    {
     "data": {
      "text/plain": [
       "<1x9024 sparse matrix of type '<class 'numpy.int64'>'\n",
       "\twith 14 stored elements in Compressed Sparse Row format>"
      ]
     },
     "execution_count": 37,
     "metadata": {},
     "output_type": "execute_result"
    }
   ],
   "source": []
  },
  {
   "cell_type": "code",
   "execution_count": 26,
   "metadata": {},
   "outputs": [],
   "source": [
    "lda=LatentDirichletAllocation(n_components=5)"
   ]
  },
  {
   "cell_type": "code",
   "execution_count": 27,
   "metadata": {},
   "outputs": [
    {
     "name": "stderr",
     "output_type": "stream",
     "text": [
      "C:\\Users\\Ritu\\AppData\\Local\\Continuum\\anaconda3\\lib\\site-packages\\sklearn\\decomposition\\online_lda.py:536: DeprecationWarning: The default value for 'learning_method' will be changed from 'online' to 'batch' in the release 0.20. This warning was introduced in 0.18.\n",
      "  DeprecationWarning)\n"
     ]
    }
   ],
   "source": [
    "x=lda.fit(tf)"
   ]
  },
  {
   "cell_type": "code",
   "execution_count": 43,
   "metadata": {},
   "outputs": [
    {
     "name": "stdout",
     "output_type": "stream",
     "text": [
      "LatentDirichletAllocation(batch_size=128, doc_topic_prior=None,\n",
      "             evaluate_every=-1, learning_decay=0.7, learning_method=None,\n",
      "             learning_offset=10.0, max_doc_update_iter=100, max_iter=10,\n",
      "             mean_change_tol=0.001, n_components=5, n_jobs=1,\n",
      "             n_topics=None, perp_tol=0.1, random_state=None,\n",
      "             topic_word_prior=None, total_samples=1000000.0, verbose=0)\n"
     ]
    }
   ],
   "source": [
    "print(x)"
   ]
  },
  {
   "cell_type": "code",
   "execution_count": 48,
   "metadata": {},
   "outputs": [],
   "source": [
    "Matrix=lda.transform(tf)"
   ]
  },
  {
   "cell_type": "code",
   "execution_count": 49,
   "metadata": {},
   "outputs": [
    {
     "data": {
      "text/plain": [
       "array([[0.8472951 , 0.01112906, 0.11932664, 0.01112006, 0.01112913],\n",
       "       [0.38877754, 0.01286827, 0.01253252, 0.01255437, 0.57326731],\n",
       "       [0.01434448, 0.0142861 , 0.94266693, 0.01429207, 0.01441041],\n",
       "       ...,\n",
       "       [0.01434798, 0.01431807, 0.01430962, 0.94271455, 0.01430977],\n",
       "       [0.02000063, 0.02014144, 0.02000029, 0.91975986, 0.02009778],\n",
       "       [0.01432665, 0.16827716, 0.01449492, 0.54777634, 0.25512492]])"
      ]
     },
     "execution_count": 49,
     "metadata": {},
     "output_type": "execute_result"
    }
   ],
   "source": [
    "Matrix"
   ]
  },
  {
   "cell_type": "code",
   "execution_count": 59,
   "metadata": {},
   "outputs": [],
   "source": [
    "from sklearn.cluster import KMeans"
   ]
  },
  {
   "cell_type": "code",
   "execution_count": 60,
   "metadata": {},
   "outputs": [],
   "source": [
    "kmean=KMeans(n_clusters=5).fit(Matrix)"
   ]
  },
  {
   "cell_type": "code",
   "execution_count": 61,
   "metadata": {},
   "outputs": [
    {
     "data": {
      "text/plain": [
       "array([1, 0, 3, ..., 2, 2, 2])"
      ]
     },
     "execution_count": 61,
     "metadata": {},
     "output_type": "execute_result"
    }
   ],
   "source": [
    "kmean.labels_"
   ]
  },
  {
   "cell_type": "code",
   "execution_count": null,
   "metadata": {},
   "outputs": [],
   "source": [
    "for "
   ]
  },
  {
   "cell_type": "code",
   "execution_count": null,
   "metadata": {},
   "outputs": [],
   "source": []
  },
  {
   "cell_type": "code",
   "execution_count": null,
   "metadata": {},
   "outputs": [],
   "source": []
  },
  {
   "cell_type": "code",
   "execution_count": 58,
   "metadata": {},
   "outputs": [
    {
     "data": {
      "text/plain": [
       "array([[ 0.20407231, 61.92061603,  0.20000434, ...,  0.20103576,\n",
       "         0.20858478,  0.20004746],\n",
       "       [ 0.20191265,  0.20056979,  0.20000681, ...,  0.20030711,\n",
       "         0.21035366,  0.20000598],\n",
       "       [ 1.45385011,  0.20486134,  0.20149694, ...,  0.20014315,\n",
       "         0.2017013 ,  0.20049756],\n",
       "       [ 0.20001524,  7.04505947,  0.20000524, ...,  2.69465546,\n",
       "         1.46029554,  1.87710892],\n",
       "       [ 0.20198682,  0.2025082 ,  1.09861757, ...,  0.2001165 ,\n",
       "         0.20002632,  0.20000536]])"
      ]
     },
     "execution_count": 58,
     "metadata": {},
     "output_type": "execute_result"
    }
   ],
   "source": []
  },
  {
   "cell_type": "code",
   "execution_count": 50,
   "metadata": {},
   "outputs": [],
   "source": [
    "def display_topics(model,features_name,no_top_words):\n",
    "    for topic_idex,topic in enumerate(model.components_):\n",
    "        print(\"Topic\",topic_idex)\n",
    "        print(\"  \".join([features_name[i]\n",
    "                      for i in topic.argsort()[: -no_top_words -1:-1]]))\n",
    "        "
   ]
  },
  {
   "cell_type": "code",
   "execution_count": 51,
   "metadata": {},
   "outputs": [
    {
     "name": "stdout",
     "output_type": "stream",
     "text": [
      "Topic 0\n",
      "to  in  of  for  is  on  say  from  the  india  over  after  not  isis  by  be  govt  delhi  air  police\n",
      "Topic 1\n",
      "khan  and  salman  photos  of  to  in  kapoor  on  video  the  for  with  other  sultan  singh  deepika  at  star  padukone\n",
      "Topic 2\n",
      "in  office  box  attack  at  to  shah  collection  indian  rukh  killed  isis  day  us  on  kashmir  year  pakistan  india  film\n",
      "Topic 3\n",
      "to  android  with  in  modi  how  india  galaxy  samsung  price  update  install  launch  on  note  new  rom  custom  pm  marshmallow\n",
      "Topic 4\n",
      "to  2016  in  india  rio  of  olympics  for  and  2015  report  review  up  world  with  by  the  movie  live  open\n"
     ]
    }
   ],
   "source": [
    "topics=display_topics(lda,feature_name,20)"
   ]
  },
  {
   "cell_type": "code",
   "execution_count": 57,
   "metadata": {},
   "outputs": [
    {
     "data": {
      "text/plain": [
       "NoneType"
      ]
     },
     "execution_count": 57,
     "metadata": {},
     "output_type": "execute_result"
    }
   ],
   "source": [
    "type(topics)"
   ]
  },
  {
   "cell_type": "code",
   "execution_count": null,
   "metadata": {},
   "outputs": [],
   "source": []
  },
  {
   "cell_type": "code",
   "execution_count": null,
   "metadata": {},
   "outputs": [],
   "source": []
  },
  {
   "cell_type": "code",
   "execution_count": null,
   "metadata": {},
   "outputs": [],
   "source": []
  },
  {
   "cell_type": "code",
   "execution_count": null,
   "metadata": {},
   "outputs": [],
   "source": []
  },
  {
   "cell_type": "code",
   "execution_count": null,
   "metadata": {},
   "outputs": [],
   "source": []
  },
  {
   "cell_type": "code",
   "execution_count": 40,
   "metadata": {},
   "outputs": [
    {
     "name": "stdout",
     "output_type": "stream",
     "text": [
      "[[1 1]]\n"
     ]
    }
   ],
   "source": [
    "vectorizer = CountVectorizer()\n",
    "text2 = [\"the puppy\"]\n",
    "vectorizer.fit(text2)\n",
    "vector = vectorizer.transform(text2)\n",
    "print(vector.toarray())"
   ]
  },
  {
   "cell_type": "code",
   "execution_count": null,
   "metadata": {},
   "outputs": [],
   "source": []
  },
  {
   "cell_type": "code",
   "execution_count": null,
   "metadata": {},
   "outputs": [],
   "source": []
  }
 ],
 "metadata": {
  "kernelspec": {
   "display_name": "Python 3",
   "language": "python",
   "name": "python3"
  },
  "language_info": {
   "codemirror_mode": {
    "name": "ipython",
    "version": 3
   },
   "file_extension": ".py",
   "mimetype": "text/x-python",
   "name": "python",
   "nbconvert_exporter": "python",
   "pygments_lexer": "ipython3",
   "version": "3.7.0"
  }
 },
 "nbformat": 4,
 "nbformat_minor": 2
}
