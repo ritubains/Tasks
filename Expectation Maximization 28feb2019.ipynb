{
 "cells": [
  {
   "cell_type": "code",
   "execution_count": 1,
   "metadata": {},
   "outputs": [],
   "source": [
    "import numpy as np\n",
    "import random\n",
    "import matplotlib.pyplot as plt\n"
   ]
  },
  {
   "cell_type": "code",
   "execution_count": 2,
   "metadata": {},
   "outputs": [
    {
     "data": {
      "text/plain": [
       "array([30, 79, 42, 65, 71,  2,  0, 26, 48, 70, 45, 74, 79,  1,  9, 28, 42,\n",
       "       18, 59, 39])"
      ]
     },
     "execution_count": 2,
     "metadata": {},
     "output_type": "execute_result"
    }
   ],
   "source": [
    "data=np.random.choice(80,20)\n",
    "data"
   ]
  },
  {
   "cell_type": "code",
   "execution_count": 3,
   "metadata": {},
   "outputs": [],
   "source": [
    "data_mean=2\n",
    "data_std_dev=2"
   ]
  },
  {
   "cell_type": "code",
   "execution_count": 4,
   "metadata": {},
   "outputs": [],
   "source": [
    "def cal_likelihood(mean,std,data):\n",
    "    return (1/np.sqrt(2*3.14*(std**2)))*np.exp(-((data-mean)**2)/(2*(std**2)))"
   ]
  },
  {
   "cell_type": "code",
   "execution_count": 5,
   "metadata": {},
   "outputs": [],
   "source": [
    "prob_a=[]\n",
    "for point in data:\n",
    "    prob_a.append(cal_likelihood(data_mean,data_std_dev,point))\n",
    "prob_data_a=np.array(prob_a)\n",
    "prob_data_a\n",
    "prob_data_b=1-prob_data_a"
   ]
  },
  {
   "cell_type": "code",
   "execution_count": 6,
   "metadata": {},
   "outputs": [],
   "source": [
    "prob_a=0.5\n",
    "prob_b=0.5\n"
   ]
  },
  {
   "cell_type": "code",
   "execution_count": 7,
   "metadata": {},
   "outputs": [],
   "source": [
    "def cal_prob_b(data1,data2):\n",
    "    return (data1*prob_b)/((data1*prob_b)+(data2*prob_a))\n",
    "    "
   ]
  },
  {
   "cell_type": "code",
   "execution_count": 8,
   "metadata": {},
   "outputs": [],
   "source": [
    "new_b=[]\n",
    "for iterat in range(len(prob_data_a)):\n",
    "    \n",
    "    \n",
    "    new_b.append(cal_prob_b(prob_data_a[iterat],prob_data_b[iterat]))\n",
    "new_b=np.array(new_b)\n",
    "shape_b=new_b.shape\n",
    "new_a=1-new_b\n",
    "sum_b=new_b.sum()\n",
    "sum_a=new_a.sum()\n",
    "    "
   ]
  },
  {
   "cell_type": "code",
   "execution_count": 9,
   "metadata": {},
   "outputs": [
    {
     "data": {
      "text/plain": [
       "array([5.48442316e-044, 2.96439388e-323, 2.76117417e-088, 6.84920789e-217,\n",
       "       6.92606622e-260, 1.99521721e-001, 1.21016041e-001, 1.07346400e-032,\n",
       "       2.68596110e-116, 1.89574379e-252, 8.38837916e-102, 7.53643416e-283,\n",
       "       2.96439388e-323, 1.76077301e-001, 4.36451993e-004, 4.00042803e-038,\n",
       "       2.76117417e-088, 2.52677611e-015, 8.35879587e-178, 9.57959099e-076])"
      ]
     },
     "execution_count": 9,
     "metadata": {},
     "output_type": "execute_result"
    }
   ],
   "source": [
    "    new_b"
   ]
  },
  {
   "cell_type": "code",
   "execution_count": 10,
   "metadata": {},
   "outputs": [
    {
     "data": {
      "text/plain": [
       "array([3.31017389e-042, 4.71338626e-321, 2.33314479e-086, 8.95678816e-215,\n",
       "       9.89335485e-258, 8.02821096e-001, 0.00000000e+000, 5.61512504e-031,\n",
       "       2.59381833e-114, 2.66978495e-250, 7.59432475e-100, 1.12200871e-280,\n",
       "       4.71338626e-321, 3.54243565e-001, 7.90273808e-003, 2.25352869e-036,\n",
       "       2.33314479e-086, 9.15035334e-014, 9.92188820e-176, 7.51640498e-074])"
      ]
     },
     "execution_count": 10,
     "metadata": {},
     "output_type": "execute_result"
    }
   ],
   "source": [
    "mean_b=[]\n",
    "for iterat in range(len(new_b)):\n",
    "    \n",
    "    mean_b.append((np.sum((new_b[iterat]*data[iterat])))/sum_b)\n",
    "mean_b=np.array(mean_b)\n",
    "mean_b"
   ]
  },
  {
   "cell_type": "code",
   "execution_count": 11,
   "metadata": {},
   "outputs": [
    {
     "data": {
      "text/plain": [
       "array([9.93052167e-041, 3.72209295e-319, 9.79920810e-085, 5.82191231e-213,\n",
       "       7.02428195e-256, 5.75316581e-001, 0.00000000e+000, 1.45993251e-029,\n",
       "       1.24503280e-112, 1.86884946e-248, 3.41744614e-098, 8.30286443e-279,\n",
       "       3.72209295e-319, 1.47720053e-001, 7.09997910e-002, 6.30988032e-035,\n",
       "       9.79920810e-085, 1.64706360e-012, 5.85391404e-174, 2.93139794e-072])"
      ]
     },
     "execution_count": 11,
     "metadata": {},
     "output_type": "execute_result"
    }
   ],
   "source": [
    "std_dev_b=[]\n",
    "for iterat in range(len(new_b)):\n",
    "    std_dev_b.append((np.sum(new_b[iterat]*((data[iterat]-mean_b[iterat])**2)))/sum_b)\n",
    "std_dev_b=np.array(std_dev_b)\n",
    "std_dev_b"
   ]
  },
  {
   "cell_type": "code",
   "execution_count": 12,
   "metadata": {},
   "outputs": [
    {
     "data": {
      "text/plain": [
       "array([1.53822895, 4.05066957, 2.15352053, 3.3328294 , 3.64047519,\n",
       "       0.08208792, 0.        , 1.33313176, 2.46116632, 3.58920089,\n",
       "       2.30734343, 3.79429808, 4.05066957, 0.04224606, 0.46126728,\n",
       "       1.43568035, 2.15352053, 0.92293737, 3.0251836 , 1.99969764])"
      ]
     },
     "execution_count": 12,
     "metadata": {},
     "output_type": "execute_result"
    }
   ],
   "source": [
    "mean_a=[]\n",
    "for iterat in range(len(new_a)):\n",
    "    \n",
    "    mean_a.append((np.sum((new_a[iterat]*data[iterat])))/sum_a)\n",
    "mean_a=np.array(mean_a)\n",
    "mean_a"
   ]
  },
  {
   "cell_type": "code",
   "execution_count": 13,
   "metadata": {},
   "outputs": [
    {
     "data": {
      "text/plain": [
       "array([[4.05036206e+01],\n",
       "       [2.80870107e+02],\n",
       "       [7.93870963e+01],\n",
       "       [1.90141997e+02],\n",
       "       [2.26865279e+02],\n",
       "       [1.47223434e-01],\n",
       "       [0.00000000e+00],\n",
       "       [3.04227194e+01],\n",
       "       [1.03689269e+02],\n",
       "       [2.20519712e+02],\n",
       "       [9.11331463e+01],\n",
       "       [2.46442029e+02],\n",
       "       [2.80870107e+02],\n",
       "       [3.77889103e-02],\n",
       "       [3.64390674e+00],\n",
       "       [3.52831539e+01],\n",
       "       [7.93870963e+01],\n",
       "       [1.45813034e+01],\n",
       "       [1.56659004e+02],\n",
       "       [6.84511187e+01]])"
      ]
     },
     "execution_count": 13,
     "metadata": {},
     "output_type": "execute_result"
    }
   ],
   "source": [
    "std_dev_a=[]\n",
    "for iterat in range(len(new_a)):\n",
    "    std_dev_a.append((np.sum(new_a[iterat]*((data[iterat]-mean_a[iterat])**2)))/shape_b)\n",
    "std_dev_a=np.array(std_dev_a)\n",
    "std_dev_a"
   ]
  },
  {
   "cell_type": "code",
   "execution_count": 14,
   "metadata": {},
   "outputs": [],
   "source": [
    "updated_prob_b=new_b.sum()/shape_b\n",
    "updated_prob_a=1-updated_prob_b"
   ]
  },
  {
   "cell_type": "code",
   "execution_count": 15,
   "metadata": {},
   "outputs": [],
   "source": [
    "normalized_prob_a=(updated_prob_a+updated_prob_b)/updated_prob_a\n",
    "normalized_prob_b=(updated_prob_a+updated_prob_b)/updated_prob_b\n"
   ]
  },
  {
   "cell_type": "code",
   "execution_count": 24,
   "metadata": {},
   "outputs": [
    {
     "ename": "TypeError",
     "evalue": "scatter() missing 1 required positional argument: 'y'",
     "output_type": "error",
     "traceback": [
      "\u001b[1;31m---------------------------------------------------------------------------\u001b[0m",
      "\u001b[1;31mTypeError\u001b[0m                                 Traceback (most recent call last)",
      "\u001b[1;32m<ipython-input-24-14ec0a3bfa1a>\u001b[0m in \u001b[0;36m<module>\u001b[1;34m()\u001b[0m\n\u001b[1;32m----> 1\u001b[1;33m \u001b[0mplt\u001b[0m\u001b[1;33m.\u001b[0m\u001b[0mscatter\u001b[0m\u001b[1;33m(\u001b[0m\u001b[0mdata\u001b[0m\u001b[1;33m,\u001b[0m \u001b[0mmarker\u001b[0m\u001b[1;33m=\u001b[0m\u001b[1;34m'*'\u001b[0m\u001b[1;33m,\u001b[0m \u001b[0ms\u001b[0m\u001b[1;33m=\u001b[0m\u001b[1;36m200\u001b[0m\u001b[1;33m,\u001b[0m \u001b[0mc\u001b[0m\u001b[1;33m=\u001b[0m\u001b[1;34m'g'\u001b[0m\u001b[1;33m)\u001b[0m\u001b[1;33m\u001b[0m\u001b[0m\n\u001b[0m",
      "\u001b[1;31mTypeError\u001b[0m: scatter() missing 1 required positional argument: 'y'"
     ]
    }
   ],
   "source": []
  },
  {
   "cell_type": "code",
   "execution_count": null,
   "metadata": {},
   "outputs": [],
   "source": []
  },
  {
   "cell_type": "code",
   "execution_count": null,
   "metadata": {},
   "outputs": [],
   "source": []
  },
  {
   "cell_type": "code",
   "execution_count": null,
   "metadata": {},
   "outputs": [],
   "source": []
  }
 ],
 "metadata": {
  "kernelspec": {
   "display_name": "Python 3",
   "language": "python",
   "name": "python3"
  },
  "language_info": {
   "codemirror_mode": {
    "name": "ipython",
    "version": 3
   },
   "file_extension": ".py",
   "mimetype": "text/x-python",
   "name": "python",
   "nbconvert_exporter": "python",
   "pygments_lexer": "ipython3",
   "version": "3.7.0"
  }
 },
 "nbformat": 4,
 "nbformat_minor": 2
}
