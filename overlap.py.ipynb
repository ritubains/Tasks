{
 "cells": [
  {
   "cell_type": "code",
   "execution_count": 18,
   "metadata": {},
   "outputs": [],
   "source": [
    "with open ('one.txt','w') as open_file:\n",
    "     for num in range(2,1000): \n",
    "            if all(num%i!=0 for i in range(2,num)):\n",
    "                 open_file.write(\"%s \\n\" %num)\n",
    "           \n",
    "        \n",
    "                 \n",
    "    \n",
    "       \n",
    "    "
   ]
  },
  {
   "cell_type": "code",
   "execution_count": 13,
   "metadata": {},
   "outputs": [
    {
     "name": "stdout",
     "output_type": "stream",
     "text": [
      "Overwriting second.txt\n"
     ]
    }
   ],
   "source": [
    "%%writefile second.txt \n",
    "1\n",
    "7\n",
    "13\n",
    "19\n",
    "23\n",
    "28\n",
    "44\n",
    "49\n",
    "68\n",
    "79\n",
    "129\n",
    "133\n",
    "139 \n",
    "167\n",
    "188\n",
    "226\n",
    "236\n",
    "239\n",
    "338\n",
    "356\n",
    "367\n",
    "368 \n",
    "379\n",
    "446\n",
    "469\n",
    "478\n",
    "556\n",
    "566\n",
    "888\n",
    "899\n",
    "    \n",
    "                \n",
    "             \n",
    "            \n",
    "        \n",
    "                \n",
    "\n",
    "                \n",
    "\n",
    "        \n",
    "        "
   ]
  },
  {
   "cell_type": "code",
   "execution_count": null,
   "metadata": {},
   "outputs": [],
   "source": [
    "\n",
    "   \n",
    "    "
   ]
  },
  {
   "cell_type": "code",
   "execution_count": 12,
   "metadata": {},
   "outputs": [
    {
     "ename": "ValueError",
     "evalue": "invalid literal for int() with base 10: '    \\n'",
     "output_type": "error",
     "traceback": [
      "\u001b[1;31m---------------------------------------------------------------------------\u001b[0m",
      "\u001b[1;31mValueError\u001b[0m                                Traceback (most recent call last)",
      "\u001b[1;32m<ipython-input-12-6a3e10ed4012>\u001b[0m in \u001b[0;36m<module>\u001b[1;34m()\u001b[0m\n\u001b[0;32m     10\u001b[0m         \u001b[0mline\u001b[0m \u001b[1;33m=\u001b[0m \u001b[0mhappiesfile\u001b[0m\u001b[1;33m.\u001b[0m\u001b[0mreadline\u001b[0m\u001b[1;33m(\u001b[0m\u001b[1;33m)\u001b[0m\u001b[1;33m\u001b[0m\u001b[0m\n\u001b[0;32m     11\u001b[0m         \u001b[1;32mwhile\u001b[0m \u001b[0mline\u001b[0m\u001b[1;33m:\u001b[0m\u001b[1;33m\u001b[0m\u001b[0m\n\u001b[1;32m---> 12\u001b[1;33m                 \u001b[0mhappieslist\u001b[0m\u001b[1;33m.\u001b[0m\u001b[0mappend\u001b[0m\u001b[1;33m(\u001b[0m\u001b[0mint\u001b[0m\u001b[1;33m(\u001b[0m\u001b[0mline\u001b[0m\u001b[1;33m)\u001b[0m\u001b[1;33m)\u001b[0m\u001b[1;33m\u001b[0m\u001b[0m\n\u001b[0m\u001b[0;32m     13\u001b[0m                 \u001b[0mline\u001b[0m \u001b[1;33m=\u001b[0m \u001b[0mhappiesfile\u001b[0m\u001b[1;33m.\u001b[0m\u001b[0mreadline\u001b[0m\u001b[1;33m(\u001b[0m\u001b[1;33m)\u001b[0m\u001b[1;33m\u001b[0m\u001b[0m\n\u001b[0;32m     14\u001b[0m \u001b[1;33m\u001b[0m\u001b[0m\n",
      "\u001b[1;31mValueError\u001b[0m: invalid literal for int() with base 10: '    \\n'"
     ]
    }
   ],
   "source": [
    "primeslist = []\n",
    "with open('one.txt') as primesfile:\n",
    "\tline = primesfile.readline()\n",
    "\twhile line:\n",
    "\t\tprimeslist.append(int(line))\n",
    "\t\tline = primesfile.readline()\n",
    "\n",
    "happieslist = []\n",
    "with open('second.txt') as happiesfile:\n",
    "\tline = happiesfile.readline()\n",
    "\twhile line:\n",
    "\t\thappieslist.append(int(line))\n",
    "\t\tline = happiesfile.readline()\n",
    "\n",
    "overlaplist = []\n",
    "for elem in primeslist:\n",
    "\tif elem in happieslist:\n",
    "\t\toverlaplist.append(elem)\n",
    "print(overlaplist)                \n",
    "                \n",
    "                \n"
   ]
  },
  {
   "cell_type": "code",
   "execution_count": null,
   "metadata": {},
   "outputs": [],
   "source": []
  },
  {
   "cell_type": "code",
   "execution_count": null,
   "metadata": {},
   "outputs": [],
   "source": []
  },
  {
   "cell_type": "code",
   "execution_count": null,
   "metadata": {},
   "outputs": [],
   "source": []
  }
 ],
 "metadata": {
  "kernelspec": {
   "display_name": "Python 3",
   "language": "python",
   "name": "python3"
  },
  "language_info": {
   "codemirror_mode": {
    "name": "ipython",
    "version": 3
   },
   "file_extension": ".py",
   "mimetype": "text/x-python",
   "name": "python",
   "nbconvert_exporter": "python",
   "pygments_lexer": "ipython3",
   "version": "3.6.5"
  }
 },
 "nbformat": 4,
 "nbformat_minor": 2
}
